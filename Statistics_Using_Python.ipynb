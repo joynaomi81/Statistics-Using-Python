{
  "nbformat": 4,
  "nbformat_minor": 0,
  "metadata": {
    "colab": {
      "provenance": [],
      "mount_file_id": "1Ph9VFmTkQozAqLTADl-yamRjFCuLbnDT",
      "authorship_tag": "ABX9TyNUuckam0ab4ekYYkx7l9Td",
      "include_colab_link": true
    },
    "kernelspec": {
      "name": "python3",
      "display_name": "Python 3"
    },
    "language_info": {
      "name": "python"
    }
  },
  "cells": [
    {
      "cell_type": "markdown",
      "metadata": {
        "id": "view-in-github",
        "colab_type": "text"
      },
      "source": [
        "<a href=\"https://colab.research.google.com/github/joynaomi81/Statistics-Using-Python/blob/main/Statistics_Using_Python.ipynb\" target=\"_parent\"><img src=\"https://colab.research.google.com/assets/colab-badge.svg\" alt=\"Open In Colab\"/></a>"
      ]
    },
    {
      "cell_type": "markdown",
      "source": [
        "## Import necessary libraries"
      ],
      "metadata": {
        "id": "Jge-Ng5BK4bz"
      }
    },
    {
      "cell_type": "code",
      "source": [
        "import numpy as np\n",
        "import matplotlib.pyplot as plt\n",
        "%matplotlib inline"
      ],
      "metadata": {
        "id": "EmQH9W2wWU6C"
      },
      "execution_count": 3,
      "outputs": []
    },
    {
      "cell_type": "markdown",
      "source": [
        "## Central Tendency"
      ],
      "metadata": {
        "id": "-M0al94JWpXg"
      }
    },
    {
      "cell_type": "code",
      "source": [
        "x = np.array([1, 2, 3, 4, 5, 6, 7, 8, 9, 10,  10, 5, 6, 9,  10, 1, 2])\n",
        "print(x)"
      ],
      "metadata": {
        "colab": {
          "base_uri": "https://localhost:8080/"
        },
        "id": "6fRt8UapWvGo",
        "outputId": "e6433adb-6442-4fcb-f6ac-79017c44b744"
      },
      "execution_count": 4,
      "outputs": [
        {
          "output_type": "stream",
          "name": "stdout",
          "text": [
            "[ 1  2  3  4  5  6  7  8  9 10 10  5  6  9 10  1  2]\n"
          ]
        }
      ]
    },
    {
      "cell_type": "markdown",
      "source": [
        "# **Mean:**\n",
        "* Mean is the sum of the data divided by the total number of the data\n",
        "\n",
        "* 98/17 = 5.7647058824"
      ],
      "metadata": {
        "id": "WbvMmFLpYevG"
      }
    },
    {
      "cell_type": "code",
      "source": [
        "np.mean(x)"
      ],
      "metadata": {
        "colab": {
          "base_uri": "https://localhost:8080/"
        },
        "id": "umWXKaJ7XyRt",
        "outputId": "25d1fe83-cd64-46e6-de5d-24f0e39e6701"
      },
      "execution_count": 5,
      "outputs": [
        {
          "output_type": "execute_result",
          "data": {
            "text/plain": [
              "5.764705882352941"
            ]
          },
          "metadata": {},
          "execution_count": 5
        }
      ]
    },
    {
      "cell_type": "markdown",
      "source": [
        "# **Median:**\n",
        "* Median is the middle value of the data distribution.\n",
        "* Ordering: 1,1,2,2,3,4,5,5,6,6,7,8,9,9,10,10,10\n",
        "\n",
        "* Median = 6"
      ],
      "metadata": {
        "id": "flMO1jP4bAZv"
      }
    },
    {
      "cell_type": "code",
      "source": [
        "np.median(x)"
      ],
      "metadata": {
        "colab": {
          "base_uri": "https://localhost:8080/"
        },
        "id": "0anvWOFmZ8GK",
        "outputId": "c19d3da5-e81e-4f06-bb3a-145411962792"
      },
      "execution_count": 6,
      "outputs": [
        {
          "output_type": "execute_result",
          "data": {
            "text/plain": [
              "6.0"
            ]
          },
          "metadata": {},
          "execution_count": 6
        }
      ]
    },
    {
      "cell_type": "markdown",
      "source": [
        "* Mode is the most frequently occuring values"
      ],
      "metadata": {
        "id": "UAwADAK5cTqc"
      }
    },
    {
      "cell_type": "code",
      "source": [
        "from statistics import mode\n",
        "mode(x)"
      ],
      "metadata": {
        "colab": {
          "base_uri": "https://localhost:8080/"
        },
        "id": "lFN8RoFhcTKq",
        "outputId": "c347b371-ea1d-4310-ccc0-5e9cfb604647"
      },
      "execution_count": 7,
      "outputs": [
        {
          "output_type": "execute_result",
          "data": {
            "text/plain": [
              "10"
            ]
          },
          "metadata": {},
          "execution_count": 7
        }
      ]
    },
    {
      "cell_type": "markdown",
      "source": [
        "## Population and Sample"
      ],
      "metadata": {
        "id": "EYmGA3izc1ie"
      }
    },
    {
      "cell_type": "markdown",
      "source": [
        "* Population is the total observation\n",
        "* Sample is a subset of population"
      ],
      "metadata": {
        "id": "uSFivUHWdQyw"
      }
    },
    {
      "cell_type": "code",
      "source": [
        "# Create apopulation dataset\n",
        "population = np.random.randint(40, 50, 200)\n",
        "population"
      ],
      "metadata": {
        "colab": {
          "base_uri": "https://localhost:8080/"
        },
        "id": "LRoarsM9d7pm",
        "outputId": "bdd515cc-ad1f-4019-f6c8-d3b7a0b81696"
      },
      "execution_count": 8,
      "outputs": [
        {
          "output_type": "execute_result",
          "data": {
            "text/plain": [
              "array([42, 46, 44, 47, 41, 45, 49, 40, 42, 43, 48, 46, 49, 47, 47, 48, 41,\n",
              "       42, 40, 44, 41, 42, 41, 47, 46, 48, 47, 47, 46, 45, 41, 49, 48, 44,\n",
              "       43, 48, 42, 40, 49, 49, 49, 47, 41, 44, 42, 42, 45, 43, 42, 42, 46,\n",
              "       45, 46, 44, 46, 47, 40, 49, 47, 40, 46, 48, 47, 46, 43, 49, 42, 48,\n",
              "       45, 40, 43, 47, 41, 48, 43, 46, 42, 41, 46, 47, 48, 45, 49, 46, 40,\n",
              "       43, 47, 47, 49, 41, 42, 41, 42, 42, 41, 49, 40, 44, 45, 45, 41, 44,\n",
              "       46, 47, 40, 45, 46, 45, 45, 45, 48, 41, 40, 41, 48, 41, 40, 40, 49,\n",
              "       45, 47, 47, 43, 49, 40, 43, 47, 48, 44, 42, 47, 40, 44, 42, 45, 46,\n",
              "       41, 40, 47, 49, 40, 49, 47, 40, 46, 49, 43, 41, 48, 44, 42, 40, 40,\n",
              "       42, 48, 45, 42, 49, 43, 48, 41, 44, 46, 46, 41, 46, 48, 44, 44, 43,\n",
              "       49, 42, 40, 40, 46, 48, 42, 41, 41, 42, 49, 49, 42, 44, 45, 41, 44,\n",
              "       48, 41, 43, 48, 45, 44, 47, 40, 41, 49, 49, 49, 48])"
            ]
          },
          "metadata": {},
          "execution_count": 8
        }
      ]
    },
    {
      "cell_type": "markdown",
      "source": [
        "Calculate the mean, median, and mode"
      ],
      "metadata": {
        "id": "M69OE6PkevIS"
      }
    },
    {
      "cell_type": "code",
      "source": [
        "np.mean(population)"
      ],
      "metadata": {
        "colab": {
          "base_uri": "https://localhost:8080/"
        },
        "id": "6AtIUXxYegj-",
        "outputId": "1268a617-43be-4a66-a301-2c28d86cf8e0"
      },
      "execution_count": 9,
      "outputs": [
        {
          "output_type": "execute_result",
          "data": {
            "text/plain": [
              "44.495"
            ]
          },
          "metadata": {},
          "execution_count": 9
        }
      ]
    },
    {
      "cell_type": "code",
      "source": [
        "np.median(population)"
      ],
      "metadata": {
        "colab": {
          "base_uri": "https://localhost:8080/"
        },
        "id": "yJLu6KoQej9m",
        "outputId": "d1db538b-df0c-49aa-cf56-3bc46ad4159d"
      },
      "execution_count": 10,
      "outputs": [
        {
          "output_type": "execute_result",
          "data": {
            "text/plain": [
              "45.0"
            ]
          },
          "metadata": {},
          "execution_count": 10
        }
      ]
    },
    {
      "cell_type": "code",
      "source": [
        "mode(population)"
      ],
      "metadata": {
        "colab": {
          "base_uri": "https://localhost:8080/"
        },
        "id": "EowViUi6equD",
        "outputId": "5fa2c153-3a04-4145-c426-3797d59653c0"
      },
      "execution_count": 11,
      "outputs": [
        {
          "output_type": "execute_result",
          "data": {
            "text/plain": [
              "41"
            ]
          },
          "metadata": {},
          "execution_count": 11
        }
      ]
    },
    {
      "cell_type": "markdown",
      "source": [
        "## Sample"
      ],
      "metadata": {
        "id": "HRqlkYLsfAup"
      }
    },
    {
      "cell_type": "code",
      "source": [
        "sample = np.random.choice(population, 40)\n",
        "sample"
      ],
      "metadata": {
        "colab": {
          "base_uri": "https://localhost:8080/"
        },
        "id": "mn5rL0JXfEU0",
        "outputId": "88768371-a9f6-481b-bd80-f79a3ae870e4"
      },
      "execution_count": 12,
      "outputs": [
        {
          "output_type": "execute_result",
          "data": {
            "text/plain": [
              "array([42, 40, 44, 49, 42, 47, 45, 40, 46, 42, 40, 45, 48, 44, 40, 42, 44,\n",
              "       49, 49, 46, 46, 45, 44, 47, 47, 40, 45, 41, 43, 49, 47, 46, 42, 42,\n",
              "       49, 47, 45, 44, 47, 46])"
            ]
          },
          "metadata": {},
          "execution_count": 12
        }
      ]
    },
    {
      "cell_type": "code",
      "source": [
        "np.mean(sample)"
      ],
      "metadata": {
        "colab": {
          "base_uri": "https://localhost:8080/"
        },
        "id": "QDvgVlWPfSpK",
        "outputId": "1450757c-f862-4ec7-f5e8-5bac1f62a44c"
      },
      "execution_count": 13,
      "outputs": [
        {
          "output_type": "execute_result",
          "data": {
            "text/plain": [
              "44.65"
            ]
          },
          "metadata": {},
          "execution_count": 13
        }
      ]
    },
    {
      "cell_type": "code",
      "source": [
        "np.median(sample)"
      ],
      "metadata": {
        "colab": {
          "base_uri": "https://localhost:8080/"
        },
        "id": "QdXO_DOcfYvv",
        "outputId": "87d67b99-b48b-4043-de1d-785e352ef2cf"
      },
      "execution_count": 14,
      "outputs": [
        {
          "output_type": "execute_result",
          "data": {
            "text/plain": [
              "45.0"
            ]
          },
          "metadata": {},
          "execution_count": 14
        }
      ]
    },
    {
      "cell_type": "code",
      "source": [
        "sample_1 = np.random.choice(population, 40)\n",
        "sample_2 = np.random.choice(population, 40)\n",
        "sample_3 = np.random.choice(population, 40)\n",
        "sample_4 = np.random.choice(population, 40)"
      ],
      "metadata": {
        "id": "qEXk_dD2fcM4"
      },
      "execution_count": 15,
      "outputs": []
    },
    {
      "cell_type": "code",
      "source": [
        "all_samples =  [sample,sample_1, sample_2, sample_3, sample_4]\n",
        "sample_mean = [] # create an empty list\n",
        "for i in all_samples:\n",
        "    sample_mean.append(np.mean(i))\n",
        "\n",
        "sample_mean"
      ],
      "metadata": {
        "colab": {
          "base_uri": "https://localhost:8080/"
        },
        "id": "y5bvU3Algzg3",
        "outputId": "15af4bc0-f5ac-4a2a-ff4c-fbfc2e1e537b"
      },
      "execution_count": 16,
      "outputs": [
        {
          "output_type": "execute_result",
          "data": {
            "text/plain": [
              "[44.65, 45.025, 45.025, 43.9, 45.0]"
            ]
          },
          "metadata": {},
          "execution_count": 16
        }
      ]
    },
    {
      "cell_type": "code",
      "source": [
        "np.mean(sample_mean)"
      ],
      "metadata": {
        "colab": {
          "base_uri": "https://localhost:8080/"
        },
        "id": "cN4i7ixChx_6",
        "outputId": "0b9ce3fa-f302-4e4e-dc8d-73d06c3f9c6e"
      },
      "execution_count": 17,
      "outputs": [
        {
          "output_type": "execute_result",
          "data": {
            "text/plain": [
              "44.72"
            ]
          },
          "metadata": {},
          "execution_count": 17
        }
      ]
    },
    {
      "cell_type": "code",
      "source": [
        "np.mean(population)"
      ],
      "metadata": {
        "colab": {
          "base_uri": "https://localhost:8080/"
        },
        "id": "wyldvmDViARU",
        "outputId": "98d57656-1607-4f4f-f296-83b69233b3c7"
      },
      "execution_count": 18,
      "outputs": [
        {
          "output_type": "execute_result",
          "data": {
            "text/plain": [
              "44.495"
            ]
          },
          "metadata": {},
          "execution_count": 18
        }
      ]
    },
    {
      "cell_type": "markdown",
      "source": [
        "## Measure of Spread"
      ],
      "metadata": {
        "id": "G40wEuGlitsN"
      }
    },
    {
      "cell_type": "markdown",
      "source": [
        "## What is measure of spread?\n",
        "* Measure of spread which is also called measure of dispersion. It shows the variability in the data and how well the data is distributed.\n",
        "\n",
        "* Measure of Spread categories\n",
        "1. Standard Deviation.\n",
        "2. Range.\n",
        "3. Quartile.\n",
        "4. Variance.\n",
        "\n",
        "* To calculate Range: Find the difference between the highest value and the lowest value."
      ],
      "metadata": {
        "id": "EfbaNmPNjBsU"
      }
    },
    {
      "cell_type": "code",
      "source": [
        "y = np.random.randn(40)\n",
        "print(y)"
      ],
      "metadata": {
        "colab": {
          "base_uri": "https://localhost:8080/"
        },
        "id": "ALLqPlFXllPD",
        "outputId": "4a89cd7f-e95f-483a-c82f-17379cf2dfef"
      },
      "execution_count": 19,
      "outputs": [
        {
          "output_type": "stream",
          "name": "stdout",
          "text": [
            "[-0.13821397 -1.44242996  0.96120448 -0.17552751 -0.25893905  2.00798188\n",
            " -1.27413726  0.96141076 -0.20060095  0.67415387  0.27492306 -0.84948387\n",
            " -1.57033845  0.45887674 -2.59014888  0.51843305  1.0368768  -0.7912678\n",
            "  0.78797417 -0.62856757  0.40030619 -0.69124613  1.10082823  0.96962287\n",
            " -1.50164578  1.54390564 -1.17994177  0.26515948  0.38596655  0.85454087\n",
            " -0.25798744  0.68704541 -1.49468772  0.93449338  1.26256746 -0.63414007\n",
            " -0.76521242  0.61251927  0.19291913  0.59367933]\n"
          ]
        }
      ]
    },
    {
      "cell_type": "code",
      "source": [
        "# Range\n",
        "np.max(y) - np.min(y)"
      ],
      "metadata": {
        "colab": {
          "base_uri": "https://localhost:8080/"
        },
        "id": "wVIgE74zmtyh",
        "outputId": "008c1b22-cfaa-445e-dd5c-0aac9ad4342b"
      },
      "execution_count": 20,
      "outputs": [
        {
          "output_type": "execute_result",
          "data": {
            "text/plain": [
              "4.598130751192407"
            ]
          },
          "metadata": {},
          "execution_count": 20
        }
      ]
    },
    {
      "cell_type": "markdown",
      "source": [
        "##Quartile\n",
        "###Quartile are values that seperate the data into four equal part."
      ],
      "metadata": {
        "id": "VOOKy1HtnIg6"
      }
    },
    {
      "cell_type": "code",
      "source": [
        "# First Quartile\n",
        "Q1 = np.percentile(y, 25)\n",
        "Q1\n",
        "# Second Quartile\n",
        "Q2 = np.percentile(y, 50)\n",
        "Q2\n",
        "# Third Quartile\n",
        "Q3 = np.percentile(y, 75)\n",
        "Q3\n",
        "print(Q1)\n",
        "print(Q2)\n",
        "print(Q3)"
      ],
      "metadata": {
        "colab": {
          "base_uri": "https://localhost:8080/"
        },
        "id": "1lLr5ZGt7bP0",
        "outputId": "ad654dcd-179b-40b6-fce6-a6d7702848cb"
      },
      "execution_count": 23,
      "outputs": [
        {
          "output_type": "stream",
          "name": "stdout",
          "text": [
            "-0.7097377004110285\n",
            "0.2700412741869791\n",
            "0.8046158440271045\n"
          ]
        }
      ]
    },
    {
      "cell_type": "markdown",
      "source": [
        "## Interquartile Range:\n",
        "###Interquartile range is the difference between the first and third quartiles, Q1 and Q3.\n",
        "* Formula for IQR\n",
        "* Q3-Q1 = IQR"
      ],
      "metadata": {
        "id": "FSN-fQEf8bG4"
      }
    },
    {
      "cell_type": "code",
      "source": [
        "IQR = Q3 - Q1\n",
        "IQR"
      ],
      "metadata": {
        "colab": {
          "base_uri": "https://localhost:8080/"
        },
        "id": "r5tDY1HQ8lLF",
        "outputId": "3490d817-1ad9-46c0-cf93-871a48d991a3"
      },
      "execution_count": 25,
      "outputs": [
        {
          "output_type": "execute_result",
          "data": {
            "text/plain": [
              "1.514353544438133"
            ]
          },
          "metadata": {},
          "execution_count": 25
        }
      ]
    },
    {
      "cell_type": "markdown",
      "source": [
        "## Variance\n",
        " Variance measures how far the data is away from the mean"
      ],
      "metadata": {
        "id": "M8hLEh8SAbep"
      }
    },
    {
      "cell_type": "code",
      "source": [
        "age = np.random.randint(20, 50, 100)\n",
        "age"
      ],
      "metadata": {
        "colab": {
          "base_uri": "https://localhost:8080/"
        },
        "id": "IGFf_51zAumg",
        "outputId": "d7840113-14b4-4385-ec93-28d5d7696972"
      },
      "execution_count": 29,
      "outputs": [
        {
          "output_type": "execute_result",
          "data": {
            "text/plain": [
              "array([26, 27, 39, 45, 43, 26, 36, 39, 44, 46, 29, 47, 23, 32, 45, 45, 20,\n",
              "       46, 40, 48, 37, 49, 25, 29, 44, 25, 31, 34, 23, 23, 25, 44, 30, 39,\n",
              "       27, 25, 33, 44, 27, 35, 43, 26, 35, 32, 21, 23, 40, 40, 39, 27, 24,\n",
              "       23, 41, 49, 26, 48, 48, 26, 48, 46, 30, 30, 21, 23, 46, 25, 35, 25,\n",
              "       29, 26, 34, 33, 44, 25, 46, 46, 32, 27, 49, 40, 34, 28, 39, 43, 46,\n",
              "       25, 28, 29, 29, 27, 32, 37, 22, 21, 48, 20, 44, 21, 28, 45])"
            ]
          },
          "metadata": {},
          "execution_count": 29
        }
      ]
    },
    {
      "cell_type": "code",
      "source": [
        "sample = np.random.choice(age, 20)\n",
        "sample"
      ],
      "metadata": {
        "colab": {
          "base_uri": "https://localhost:8080/"
        },
        "id": "SxHjEaolB6uU",
        "outputId": "025858e2-4574-4a17-ca2f-82d0a676177b"
      },
      "execution_count": 30,
      "outputs": [
        {
          "output_type": "execute_result",
          "data": {
            "text/plain": [
              "array([25, 49, 44, 39, 46, 23, 49, 29, 26, 20, 28, 26, 27, 27, 28, 26, 28,\n",
              "       40, 46, 39])"
            ]
          },
          "metadata": {},
          "execution_count": 30
        }
      ]
    },
    {
      "cell_type": "code",
      "source": [
        "np.var(age) #Population Variance\n"
      ],
      "metadata": {
        "colab": {
          "base_uri": "https://localhost:8080/"
        },
        "id": "DhpCRCj1CJFf",
        "outputId": "500476ec-7a44-4490-a113-0e94e554372a"
      },
      "execution_count": 44,
      "outputs": [
        {
          "output_type": "execute_result",
          "data": {
            "text/plain": [
              "81.7256"
            ]
          },
          "metadata": {},
          "execution_count": 44
        }
      ]
    },
    {
      "cell_type": "code",
      "source": [
        "np.var(sample) #Population variance"
      ],
      "metadata": {
        "colab": {
          "base_uri": "https://localhost:8080/"
        },
        "id": "Y1IvPAoFFRd1",
        "outputId": "ac40f4c4-3851-4b26-cfea-d7855d4fea71"
      },
      "execution_count": 43,
      "outputs": [
        {
          "output_type": "execute_result",
          "data": {
            "text/plain": [
              "86.6875"
            ]
          },
          "metadata": {},
          "execution_count": 43
        }
      ]
    },
    {
      "cell_type": "markdown",
      "source": [
        "## Standard Deviation\n",
        "Standard deviation is the square root of a variance.Standard deviation shows the exact value of how the data is spread form the mean.\n",
        "###Formula for SD =![stat.png](data:image/png;base64,iVBORw0KGgoAAAANSUhEUgAAAI0AAAArCAMAAAByxftkAAAABGdBTUEAALGPC/xhBQAAACBjSFJNAAB6JgAAgIQAAPoAAACA6AAAdTAAAOpgAAA6mAAAF3CculE8AAAAM1BMVEX///8VIE8VIE8VIE8VIE8VIE8VIE8VIE8VIE8VIE8VIE8VIE8VIE8VIE8VIE8VIE/////IiLhoAAAAD3RSTlMAMnarRCIQ3c27ZlSZ74lSETjjAAAAAWJLR0QAiAUdSAAAAAlwSFlzAAAOxAAADsQBlSsOGwAAAAd0SU1FB+YFFwEcDOfkySgAAAJgSURBVFjDzVjtooIgDAWUAfKx93/bK8MPsFQku3l+lFSDs3G2QYw9AVyIrv81iQWCMYny1ywmcATGlGiwVKgNQWuFI/jqXgMGoDcbJx4a7C26ddCbeeSIFTiFfuTVe9R19Lr5QSK0uOMw11uvEsd57R5DfDO1muSzb7pRxcrnXliaRWXfji+ifmqdxOtsG5lRc6YYxoisuzegZcOFqQeKqh0tGoMjcKuJ3DPU9oqfUkdvBEDfGh29ZNIEn9UKh+f6DYIoJFtggHl2XgV4VX6A2XORdDvwMQ6a9M5UK4u9FSFjI4PGM/OUzVMwdOsOreiK6iDX9cGNVPM6xs2CxYOBtDIZmT029c1LhGK4sIG44nYfX32J1mHKzN1CU928uCnHS6RcfAhngiTZjH2JoqJ2FqxuXqA3VXwqvZBKmcTu0JzHrbTYc7Lyez+rbV5m6zuVMG48iZtrxMMNF6oTgg+U5nnhfEVN8yqreBzAmVJKZ/LwuyPeFc1rKLwJ/HTOLXJZga52+y1KBYcUFTCndusEeT1yB4KvaF6rgkH2wuOU6jKwWthM40f9taZ5GSwx+9Z0VmJvsttqmld81rxuQjC9dApenHNrTTf/RtFGVUPbqfR+UJmuPiPjVzH1X3upfH0PnPqEftMPfqIbNe6R6D6f56bghEF8fvx6OOK1k7pjUL77cQ0jGjqlxpXb1RfZ2HRHru9gXwQMzJvHsLFyPCDHrtj2X8rNCLHCjy/9AyScNsj4h4QG6KqN9iGyoQ3y+hmxSSERKB4jm3huOv2L4D/AJ7l0+rN57gB03qdbF78kmz+KkBcF7xiPQAAAACJ0RVh0Y29tbWVudABSZW5kZXJlZCBieSBRdWlja0xhVGVYLmNvbSBJ0LYAAAAldEVYdGRhdGU6Y3JlYXRlADIwMjItMDUtMjNUMDE6Mjg6MTIrMDk6MDBRonhwAAAAJXRFWHRkYXRlOm1vZGlmeQAyMDIyLTA1LTIzVDAxOjI4OjEyKzA5OjAwIP/AzAAAAABJRU5ErkJggg==)\n",
        "\n",
        " A high standard deviation means that the values are far from the mean, while a low standard deviation means that the values are close to the mean."
      ],
      "metadata": {
        "id": "yrpA56z6GgpO"
      }
    },
    {
      "cell_type": "code",
      "source": [
        "np.std(age) #Population standard deviation"
      ],
      "metadata": {
        "colab": {
          "base_uri": "https://localhost:8080/"
        },
        "id": "Atu6wVPaGJ05",
        "outputId": "61d5cfda-ea1c-4a31-ef97-be49aa109307"
      },
      "execution_count": 40,
      "outputs": [
        {
          "output_type": "execute_result",
          "data": {
            "text/plain": [
              "9.040221236230892"
            ]
          },
          "metadata": {},
          "execution_count": 40
        }
      ]
    },
    {
      "cell_type": "code",
      "source": [
        "np.std(sample) #Population standard deviation"
      ],
      "metadata": {
        "colab": {
          "base_uri": "https://localhost:8080/"
        },
        "id": "n3NDFb6dLkmv",
        "outputId": "472241b7-babb-4f7c-ad75-b88dc5475313"
      },
      "execution_count": 36,
      "outputs": [
        {
          "output_type": "execute_result",
          "data": {
            "text/plain": [
              "9.310612224768036"
            ]
          },
          "metadata": {},
          "execution_count": 36
        }
      ]
    }
  ]
}